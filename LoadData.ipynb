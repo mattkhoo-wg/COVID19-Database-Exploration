{
    "metadata": {
        "kernelspec": {
            "name": "SQL",
            "display_name": "SQL",
            "language": "sql"
        },
        "language_info": {
            "name": "sql",
            "version": ""
        }
    },
    "nbformat_minor": 2,
    "nbformat": 4,
    "cells": [
        {
            "cell_type": "markdown",
            "source": [
                "Creating Tables"
            ],
            "metadata": {
                "azdata_cell_guid": "4b741575-6434-4430-b649-4586d2ccf0ee"
            },
            "attachments": {}
        },
        {
            "cell_type": "code",
            "source": [
                "CREATE TABLE Deaths (\n",
                "    iso_code varchar(20),\n",
                "    continent varchar(30),\n",
                "    location varchar(155),\n",
                "    date date,\n",
                "    population BIGINT,\n",
                "    total_cases int,\n",
                "    new_cases int,\n",
                "    new_cases_smoothed float,\n",
                "    total_deaths int,\n",
                "    new_deaths int,\n",
                "    new_deaths_smoothed float,\n",
                "    total_cases_per_million float,\n",
                "    new_cases_per_million float,\n",
                "    new_cases_smoothed_per_million float,\n",
                "    total_deaths_per_million float,\n",
                "    new_deaths_per_million float,\n",
                "    new_deaths_smoothed_per_million float,\n",
                "    reproduction_rate float,\n",
                "    icu_patients int,\n",
                "    icu_patients_per_million float,\n",
                "    hosp_patients int,\n",
                "    hosp_patients_per_million float,\n",
                "    weekly_icu_admissions float,\n",
                "    weekly_icu_admissions_per_million float\n",
                ");\n",
                "\n",
                "CREATE TABLE Vaccinations (\n",
                "    iso_code varchar(20),\n",
                "    continent varchar(30),\n",
                "    location varchar(155),\n",
                "    date date,\n",
                "    new_tests int,\n",
                "    total_tests int,\n",
                "    total_tests_per_thousand float,\n",
                "    new_tests_per_thousand float,\n",
                "    new_tests_smoothed int,\n",
                "    new_tests_smoothed_per_thousand float,\n",
                "    positive_rate float,\n",
                "    tests_per_case float,\n",
                "    tests_units varchar(16),\n",
                "    total_vaccinations BIGINT,\n",
                "    people_vaccinated int,\n",
                "    people_fully_vaccinated int,\n",
                "    new_vaccinations INT,\n",
                "    new_vaccinations_smoothed float,\n",
                "    total_vaccinations_per_hundred float,\n",
                "    people_vaccinated_per_hundred float,\n",
                "    people_fully_vaccinated_per_hundred float,\n",
                "    new_vaccinations_smoothed_per_million float,\n",
                "    stringency_index float,\n",
                "    population_density float,\n",
                "    median_age float,\n",
                "    aged_65_older float,\n",
                "    aged_70_older float,\n",
                "    gdp_per_capita float,\n",
                "    extreme_poverty float,\n",
                "    cardiovasc_death_rate float,\n",
                "    diabetes_prevalence float,\n",
                "    female_smokers float,\n",
                "    male_smokers float,\n",
                "    handwashing_facilitites float,\n",
                "    hospital_beds_per_thousand float,\n",
                "    life_expectancy float,\n",
                "    human_development_index float\n",
                ");"
            ],
            "metadata": {
                "azdata_cell_guid": "29d61291-477f-4311-b6dc-09e9ab1ffd2a",
                "tags": [
                    "hide_input"
                ]
            },
            "outputs": [
                {
                    "output_type": "error",
                    "evalue": "Msg 2714, Level 16, State 6, Line 1\nThere is already an object named 'Deaths' in the database.",
                    "ename": "",
                    "traceback": []
                },
                {
                    "output_type": "display_data",
                    "data": {
                        "text/html": "Total execution time: 00:00:00.257"
                    },
                    "metadata": {}
                }
            ],
            "execution_count": 81
        },
        {
            "cell_type": "markdown",
            "source": [
                "Create Master Key"
            ],
            "metadata": {
                "azdata_cell_guid": "4878e92e-8700-42bc-bf69-177189e4511a"
            },
            "attachments": {}
        },
        {
            "cell_type": "code",
            "source": [
                "CREATE MASTER KEY ENCRYPTION BY PASSWORD='ThisIsMyPassword123!' ;"
            ],
            "metadata": {
                "azdata_cell_guid": "c40648a9-4a7b-45ef-a8fa-b193cc0f161d"
            },
            "outputs": [
                {
                    "output_type": "error",
                    "evalue": "Msg 15578, Level 16, State 1, Line 1\nThere is already a master key in the database. Please drop it before performing this statement.",
                    "ename": "",
                    "traceback": []
                },
                {
                    "output_type": "display_data",
                    "data": {
                        "text/html": "Total execution time: 00:00:00.052"
                    },
                    "metadata": {}
                }
            ],
            "execution_count": 24
        },
        {
            "cell_type": "markdown",
            "source": [
                "Create Databse Scoped Credential"
            ],
            "metadata": {
                "azdata_cell_guid": "e2ad08ed-a8b8-466e-b114-352a10cf281d"
            },
            "attachments": {}
        },
        {
            "cell_type": "code",
            "source": [
                "CREATE DATABASE SCOPED CREDENTIAL blobcred\n",
                "WITH IDENTITY = 'SHARED ACCESS SIGNATURE',\n",
                "SECRET = 'sv=2022-11-02&ss=bfqt&srt=sco&sp=rwdlacupiytfx&se=2023-06-22T08:15:44Z&st=2023-06-22T00:15:44Z&spr=https,http&sig=zOhaubFIcyH8Kr%2BGjZEptG%2Bpd%2BCkJbXb4hBar3Q%2BbAw%3D'"
            ],
            "metadata": {
                "azdata_cell_guid": "7f7d0942-6234-4e4e-9747-5f2ebbb39859"
            },
            "outputs": [
                {
                    "output_type": "error",
                    "evalue": "Msg 15530, Level 16, State 1, Line 1\nThe credential with name \"blobcred\" already exists.",
                    "ename": "",
                    "traceback": []
                },
                {
                    "output_type": "display_data",
                    "data": {
                        "text/html": "Total execution time: 00:00:00.065"
                    },
                    "metadata": {}
                }
            ],
            "execution_count": 30
        },
        {
            "cell_type": "markdown",
            "source": [
                "Create Data Source From blob"
            ],
            "metadata": {
                "azdata_cell_guid": "d2dff4f0-cc4f-416f-bdc4-d7a8340604b5"
            },
            "attachments": {}
        },
        {
            "cell_type": "code",
            "source": [
                "CREATE EXTERNAL DATA SOURCE covidData_blob\n",
                "WITH (TYPE = BLOB_STORAGE, \n",
                "LOCATION = 'https://personal98.blob.core.windows.net/personal-storage',\n",
                "CREDENTIAL = blobcred\n",
                ");"
            ],
            "metadata": {
                "azdata_cell_guid": "4073bc78-6a07-4271-8cba-d78d1b130b6f",
                "tags": []
            },
            "outputs": [
                {
                    "output_type": "error",
                    "evalue": "Msg 46502, Level 16, State 1, Line 1\nType with name 'covidData_blob' already exists.",
                    "ename": "",
                    "traceback": []
                },
                {
                    "output_type": "display_data",
                    "data": {
                        "text/html": "Total execution time: 00:00:00.082"
                    },
                    "metadata": {}
                }
            ],
            "execution_count": 82
        },
        {
            "cell_type": "markdown",
            "source": [
                "Loading Data"
            ],
            "metadata": {
                "azdata_cell_guid": "96d8f7cb-9245-47db-a6dd-964e8da39d0d"
            },
            "attachments": {}
        },
        {
            "cell_type": "code",
            "source": [
                "SET NOCOUNT ON\n",
                "BULK INSERT Deaths FROM 'CovidDeathsTrimmed.csv'\n",
                "WITH (\n",
                "    DATA_SOURCE = 'covidData_blob',\n",
                "    DATAFILETYPE = 'char',\n",
                "    FIRSTROW = 2, -- Skip the header row if necessary\n",
                "    FIELDTERMINATOR = ',', -- Specify the CSV field delimiter\n",
                "    ROWTERMINATOR = '\\n', -- Specify the row delimiter\n",
                "    BATCHSIZE=10000, -- reduce network traffic\n",
                "    TABLOCK -- minimize log records\n",
                ");\n",
                "\n",
                ""
            ],
            "metadata": {
                "azdata_cell_guid": "91512607-0c96-4d64-bdd8-0ccf263d0bf8"
            },
            "outputs": [
                {
                    "output_type": "display_data",
                    "data": {
                        "text/html": "Commands completed successfully."
                    },
                    "metadata": {}
                },
                {
                    "output_type": "display_data",
                    "data": {
                        "text/html": "Total execution time: 00:00:15.597"
                    },
                    "metadata": {}
                }
            ],
            "execution_count": 83
        },
        {
            "cell_type": "code",
            "source": [
                "BULK INSERT Vaccinations FROM 'CovidVaccinations.csv'\n",
                "WITH (\n",
                "    DATA_SOURCE = 'covidData_blob',\n",
                "    DATAFILETYPE = 'char',\n",
                "    CODEPAGE = 65001,\n",
                "    FIRSTROW = 2, \n",
                "    FIELDTERMINATOR = ',', \n",
                "    ROWTERMINATOR = '\\n',\n",
                "    BATCHSIZE=10000,\n",
                "    TABLOCK \n",
                ");"
            ],
            "metadata": {
                "azdata_cell_guid": "55a68e37-4435-458c-99cb-4fe62c8c13da"
            },
            "outputs": [
                {
                    "output_type": "display_data",
                    "data": {
                        "text/html": "Commands completed successfully."
                    },
                    "metadata": {}
                },
                {
                    "output_type": "display_data",
                    "data": {
                        "text/html": "Total execution time: 00:00:25.228"
                    },
                    "metadata": {}
                }
            ],
            "execution_count": 84
        }
    ]
}